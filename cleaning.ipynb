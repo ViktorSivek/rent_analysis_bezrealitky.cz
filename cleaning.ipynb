{
 "cells": [
  {
   "cell_type": "code",
   "execution_count": 1,
   "id": "df3a109c",
   "metadata": {},
   "outputs": [],
   "source": [
    "import pandas as pd\n",
    "import numpy as np\n"
   ]
  },
  {
   "cell_type": "code",
   "execution_count": 2,
   "id": "52ea2044",
   "metadata": {},
   "outputs": [],
   "source": [
    "df = pd.read_csv(\"D:\\Python projects\\Podnajmy\\pronajmy.csv\")"
   ]
  },
  {
   "cell_type": "code",
   "execution_count": 3,
   "id": "34f1b8f3",
   "metadata": {},
   "outputs": [],
   "source": [
    "pd.set_option('display.max_rows', None)"
   ]
  },
  {
   "cell_type": "code",
   "execution_count": 4,
   "id": "5b470f61",
   "metadata": {},
   "outputs": [],
   "source": [
    "# add header\n",
    "df.columns = [\"Lokace\", \"Velikost\", \"Metry2\", \"Cena\", \"Služby\"]"
   ]
  },
  {
   "cell_type": "code",
   "execution_count": 5,
   "id": "e218240f",
   "metadata": {},
   "outputs": [],
   "source": [
    "# Change values in 'Lokace'\n",
    "df.loc[df['Lokace'].str.contains('Praha'), 'Lokace'] = 'Praha'\n",
    "df.loc[df['Lokace'].str.contains('Moravskoslezský kraj'), 'Lokace'] = 'Moravskoslezský kraj'\n",
    "df.loc[df['Lokace'].str.contains('Jihočeský kraj'), 'Lokace'] = 'Jihočeský kraj'\n",
    "df.loc[df['Lokace'].str.contains('Jihomoravský kraj'), 'Lokace'] = 'Jihomoravský kraj'\n",
    "df.loc[df['Lokace'].str.contains('Středočeský kraj'), 'Lokace'] = 'Středočeský kraj'\n",
    "df.loc[df['Lokace'].str.contains('Vysočina'), 'Lokace'] = 'kraj Vysočina'\n",
    "df.loc[df['Lokace'].str.contains('Pardubický kraj'), 'Lokace'] = 'Pardubický kraj'\n",
    "df.loc[df['Lokace'].str.contains('Královéhradecký kraj'), 'Lokace'] = 'Královéhradecký kraj'\n",
    "df.loc[df['Lokace'].str.contains('Plzeňský kraj'), 'Lokace'] = 'Plzeňský kraj'\n",
    "df.loc[df['Lokace'].str.contains('Liberecký kraj'), 'Lokace'] = 'Liberecký kraj'\n",
    "df.loc[df['Lokace'].str.contains('Olomoucký kraj'), 'Lokace'] = 'Olomoucký kraj'\n",
    "df.loc[df['Lokace'].str.contains('Ústecký kraj'), 'Lokace'] = 'Ústecký kraj'\n",
    "df.loc[df['Lokace'].str.contains('Zlínský kraj'), 'Lokace'] = 'Zlínský kraj'\n",
    "df.loc[df['Lokace'].str.contains('Karlovarský kraj'), 'Lokace'] = 'Karlovarský kraj'"
   ]
  },
  {
   "cell_type": "code",
   "execution_count": 6,
   "id": "a1e0e014",
   "metadata": {},
   "outputs": [],
   "source": [
    "# drop inappropriate rows\n",
    "df = df.drop(df.index[[59, 73, 109, 156, 280, 282, 314, 495, 525, 649, 650, 719, 750, 753, 866, 1266, 1230, 1267, 1296, 1553, 2146, 2159, 2197, 2203, 2213, 2232, 2295, 2317, 2320, 2334, 2337, 2429, 2442, 2503, 2535, 2545, 2578, 2620, 2678, 2689, 2701, 2777, 2811, 2813, 2830, 2879, 2882, 2925, 2929, 2931, 2933, 2943, 2953, 2954, 2957, 2985]])"
   ]
  },
  {
   "cell_type": "code",
   "execution_count": 8,
   "id": "9b673023",
   "metadata": {},
   "outputs": [
    {
     "data": {
      "text/plain": [
       "array(['Moravskoslezský kraj', 'Jihočeský kraj', 'Praha',\n",
       "       'Jihomoravský kraj', 'Středočeský kraj', 'kraj Vysočina',\n",
       "       'Pardubický kraj', 'Královéhradecký kraj', 'Plzeňský kraj',\n",
       "       'Liberecký kraj', 'Olomoucký kraj', 'Ústecký kraj', 'Zlínský kraj',\n",
       "       'Karlovarský kraj'], dtype=object)"
      ]
     },
     "execution_count": 8,
     "metadata": {},
     "output_type": "execute_result"
    }
   ],
   "source": [
    "df[\"Lokace\"].unique()"
   ]
  },
  {
   "cell_type": "code",
   "execution_count": 9,
   "id": "5a180ae6",
   "metadata": {},
   "outputs": [
    {
     "data": {
      "text/plain": [
       "array(['2+1', '1+1', '1+kk', '3+kk', '2+kk', 'Garsoniéra', '4+1', '3+1',\n",
       "       '4+kk', '5+kk', '6+kk', '5+1', '6+1'], dtype=object)"
      ]
     },
     "execution_count": 9,
     "metadata": {},
     "output_type": "execute_result"
    }
   ],
   "source": [
    "df[\"Velikost\"].unique()"
   ]
  },
  {
   "cell_type": "code",
   "execution_count": 10,
   "id": "a189cf63",
   "metadata": {},
   "outputs": [],
   "source": [
    "# create new clean file\n",
    "df.to_csv('D:\\Python projects\\Podnajmy\\pronajmy_clean.csv', index = False)"
   ]
  }
 ],
 "metadata": {
  "kernelspec": {
   "display_name": "Python 3 (ipykernel)",
   "language": "python",
   "name": "python3"
  },
  "language_info": {
   "codemirror_mode": {
    "name": "ipython",
    "version": 3
   },
   "file_extension": ".py",
   "mimetype": "text/x-python",
   "name": "python",
   "nbconvert_exporter": "python",
   "pygments_lexer": "ipython3",
   "version": "3.9.7"
  }
 },
 "nbformat": 4,
 "nbformat_minor": 5
}
